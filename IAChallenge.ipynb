{
  "cells": [
    {
      "cell_type": "markdown",
      "metadata": {
        "id": "view-in-github",
        "colab_type": "text"
      },
      "source": [
        "<a href=\"https://colab.research.google.com/github/lelemaia/IAChallenge/blob/main/IAChallenge.ipynb\" target=\"_parent\"><img src=\"https://colab.research.google.com/assets/colab-badge.svg\" alt=\"Open In Colab\"/></a>"
      ]
    },
    {
      "cell_type": "markdown",
      "metadata": {
        "id": "vMvxTVrrWZP6"
      },
      "source": [
        "# CP2\n",
        "\n",
        "**Integrantes:**\n",
        "\n",
        "\n",
        "*   RM95122 - Felipe da Silva Galvão\n",
        "*   RM94222 - Lethycia Moraes Maia\n",
        "*   RM94222 - Isabella Piola Fernandes\n",
        "*   RM95145 - Isabella Tiemy Hatamiya Silva\n"
      ]
    },
    {
      "cell_type": "markdown",
      "metadata": {
        "id": "B8pTnLDDHVqm"
      },
      "source": [
        "# Importando as bibliotecas"
      ]
    },
    {
      "cell_type": "code",
      "execution_count": null,
      "metadata": {
        "id": "vZuV1fKsSniZ"
      },
      "outputs": [],
      "source": [
        "import numpy as np\n",
        "import matplotlib.pyplot as plt\n",
        "import seaborn as sns\n",
        "import pandas as pd\n",
        "import statistics"
      ]
    },
    {
      "cell_type": "markdown",
      "metadata": {
        "id": "_BhkC6R6HfHW"
      },
      "source": [
        "# Carregando os dados "
      ]
    },
    {
      "cell_type": "code",
      "execution_count": null,
      "metadata": {
        "id": "qjIyU1HgXIsf"
      },
      "outputs": [],
      "source": [
        "dados = pd.read_csv('dados/dados_rh.csv', sep=',')"
      ]
    },
    {
      "cell_type": "code",
      "execution_count": null,
      "metadata": {
        "id": "s4n5EmjBIYaf",
        "colab": {
          "base_uri": "https://localhost:8080/"
        },
        "outputId": "cfc4b074-e46e-4589-f853-f71cfe0e1585"
      },
      "outputs": [
        {
          "output_type": "stream",
          "name": "stdout",
          "text": [
            "<class 'pandas.core.frame.DataFrame'>\n",
            "RangeIndex: 54808 entries, 0 to 54807\n",
            "Data columns (total 14 columns):\n",
            " #   Column                        Non-Null Count  Dtype  \n",
            "---  ------                        --------------  -----  \n",
            " 0   id_empregado                  54808 non-null  int64  \n",
            " 1   departamento                  54808 non-null  object \n",
            " 2   regiao                        54808 non-null  object \n",
            " 3   educacao                      52399 non-null  object \n",
            " 4   genero                        54808 non-null  object \n",
            " 5   canal_de_recrutamento         54808 non-null  object \n",
            " 6   n_de_treinamentos             54808 non-null  int64  \n",
            " 7   idade                         54808 non-null  int64  \n",
            " 8   pontuacao_ano_anterior        50684 non-null  float64\n",
            " 9   tempo_de_servico              54808 non-null  int64  \n",
            " 10  KPIs >80%                     54808 non-null  int64  \n",
            " 11  venceu_premiacoes?            54808 non-null  int64  \n",
            " 12  pontuacao_media_treinamentos  54808 non-null  int64  \n",
            " 13  foi_promovido                 54808 non-null  int64  \n",
            "dtypes: float64(1), int64(8), object(5)\n",
            "memory usage: 5.9+ MB\n"
          ]
        }
      ],
      "source": [
        "dados.info()"
      ]
    },
    {
      "cell_type": "code",
      "execution_count": null,
      "metadata": {
        "colab": {
          "base_uri": "https://localhost:8080/",
          "height": 340
        },
        "id": "7t-GIoM7JNq-",
        "outputId": "e6c2eaed-14df-44b9-9c9f-627de4090f55"
      },
      "outputs": [
        {
          "output_type": "execute_result",
          "data": {
            "text/plain": [
              "   id_empregado        departamento     regiao          educacao genero  \\\n",
              "0         65438  Vendas & Marketing   regiao_7  Mestrado & acima      F   \n",
              "1         65141           Operacoes  regiao_22       Bacharelado      M   \n",
              "2          7513  Vendas & Marketing  regiao_19       Bacharelado      M   \n",
              "3          2542  Vendas & Marketing  regiao_23       Bacharelado      M   \n",
              "4         48945          Tecnologia  regiao_26       Bacharelado      M   \n",
              "\n",
              "  canal_de_recrutamento  n_de_treinamentos  idade  pontuacao_ano_anterior  \\\n",
              "0     processo seletivo                  1     35                     5.0   \n",
              "1                outros                  1     30                     5.0   \n",
              "2     processo seletivo                  1     34                     3.0   \n",
              "3                outros                  2     39                     1.0   \n",
              "4                outros                  1     45                     3.0   \n",
              "\n",
              "   tempo_de_servico  KPIs >80%  venceu_premiacoes?  \\\n",
              "0                 8          1                   0   \n",
              "1                 4          0                   0   \n",
              "2                 7          0                   0   \n",
              "3                10          0                   0   \n",
              "4                 2          0                   0   \n",
              "\n",
              "   pontuacao_media_treinamentos  foi_promovido  \n",
              "0                            49              0  \n",
              "1                            60              0  \n",
              "2                            50              0  \n",
              "3                            50              0  \n",
              "4                            73              0  "
            ],
            "text/html": [
              "\n",
              "  <div id=\"df-19a5f267-3964-487e-846f-5ec18e5f50a5\">\n",
              "    <div class=\"colab-df-container\">\n",
              "      <div>\n",
              "<style scoped>\n",
              "    .dataframe tbody tr th:only-of-type {\n",
              "        vertical-align: middle;\n",
              "    }\n",
              "\n",
              "    .dataframe tbody tr th {\n",
              "        vertical-align: top;\n",
              "    }\n",
              "\n",
              "    .dataframe thead th {\n",
              "        text-align: right;\n",
              "    }\n",
              "</style>\n",
              "<table border=\"1\" class=\"dataframe\">\n",
              "  <thead>\n",
              "    <tr style=\"text-align: right;\">\n",
              "      <th></th>\n",
              "      <th>id_empregado</th>\n",
              "      <th>departamento</th>\n",
              "      <th>regiao</th>\n",
              "      <th>educacao</th>\n",
              "      <th>genero</th>\n",
              "      <th>canal_de_recrutamento</th>\n",
              "      <th>n_de_treinamentos</th>\n",
              "      <th>idade</th>\n",
              "      <th>pontuacao_ano_anterior</th>\n",
              "      <th>tempo_de_servico</th>\n",
              "      <th>KPIs &gt;80%</th>\n",
              "      <th>venceu_premiacoes?</th>\n",
              "      <th>pontuacao_media_treinamentos</th>\n",
              "      <th>foi_promovido</th>\n",
              "    </tr>\n",
              "  </thead>\n",
              "  <tbody>\n",
              "    <tr>\n",
              "      <th>0</th>\n",
              "      <td>65438</td>\n",
              "      <td>Vendas &amp; Marketing</td>\n",
              "      <td>regiao_7</td>\n",
              "      <td>Mestrado &amp; acima</td>\n",
              "      <td>F</td>\n",
              "      <td>processo seletivo</td>\n",
              "      <td>1</td>\n",
              "      <td>35</td>\n",
              "      <td>5.0</td>\n",
              "      <td>8</td>\n",
              "      <td>1</td>\n",
              "      <td>0</td>\n",
              "      <td>49</td>\n",
              "      <td>0</td>\n",
              "    </tr>\n",
              "    <tr>\n",
              "      <th>1</th>\n",
              "      <td>65141</td>\n",
              "      <td>Operacoes</td>\n",
              "      <td>regiao_22</td>\n",
              "      <td>Bacharelado</td>\n",
              "      <td>M</td>\n",
              "      <td>outros</td>\n",
              "      <td>1</td>\n",
              "      <td>30</td>\n",
              "      <td>5.0</td>\n",
              "      <td>4</td>\n",
              "      <td>0</td>\n",
              "      <td>0</td>\n",
              "      <td>60</td>\n",
              "      <td>0</td>\n",
              "    </tr>\n",
              "    <tr>\n",
              "      <th>2</th>\n",
              "      <td>7513</td>\n",
              "      <td>Vendas &amp; Marketing</td>\n",
              "      <td>regiao_19</td>\n",
              "      <td>Bacharelado</td>\n",
              "      <td>M</td>\n",
              "      <td>processo seletivo</td>\n",
              "      <td>1</td>\n",
              "      <td>34</td>\n",
              "      <td>3.0</td>\n",
              "      <td>7</td>\n",
              "      <td>0</td>\n",
              "      <td>0</td>\n",
              "      <td>50</td>\n",
              "      <td>0</td>\n",
              "    </tr>\n",
              "    <tr>\n",
              "      <th>3</th>\n",
              "      <td>2542</td>\n",
              "      <td>Vendas &amp; Marketing</td>\n",
              "      <td>regiao_23</td>\n",
              "      <td>Bacharelado</td>\n",
              "      <td>M</td>\n",
              "      <td>outros</td>\n",
              "      <td>2</td>\n",
              "      <td>39</td>\n",
              "      <td>1.0</td>\n",
              "      <td>10</td>\n",
              "      <td>0</td>\n",
              "      <td>0</td>\n",
              "      <td>50</td>\n",
              "      <td>0</td>\n",
              "    </tr>\n",
              "    <tr>\n",
              "      <th>4</th>\n",
              "      <td>48945</td>\n",
              "      <td>Tecnologia</td>\n",
              "      <td>regiao_26</td>\n",
              "      <td>Bacharelado</td>\n",
              "      <td>M</td>\n",
              "      <td>outros</td>\n",
              "      <td>1</td>\n",
              "      <td>45</td>\n",
              "      <td>3.0</td>\n",
              "      <td>2</td>\n",
              "      <td>0</td>\n",
              "      <td>0</td>\n",
              "      <td>73</td>\n",
              "      <td>0</td>\n",
              "    </tr>\n",
              "  </tbody>\n",
              "</table>\n",
              "</div>\n",
              "      <button class=\"colab-df-convert\" onclick=\"convertToInteractive('df-19a5f267-3964-487e-846f-5ec18e5f50a5')\"\n",
              "              title=\"Convert this dataframe to an interactive table.\"\n",
              "              style=\"display:none;\">\n",
              "        \n",
              "  <svg xmlns=\"http://www.w3.org/2000/svg\" height=\"24px\"viewBox=\"0 0 24 24\"\n",
              "       width=\"24px\">\n",
              "    <path d=\"M0 0h24v24H0V0z\" fill=\"none\"/>\n",
              "    <path d=\"M18.56 5.44l.94 2.06.94-2.06 2.06-.94-2.06-.94-.94-2.06-.94 2.06-2.06.94zm-11 1L8.5 8.5l.94-2.06 2.06-.94-2.06-.94L8.5 2.5l-.94 2.06-2.06.94zm10 10l.94 2.06.94-2.06 2.06-.94-2.06-.94-.94-2.06-.94 2.06-2.06.94z\"/><path d=\"M17.41 7.96l-1.37-1.37c-.4-.4-.92-.59-1.43-.59-.52 0-1.04.2-1.43.59L10.3 9.45l-7.72 7.72c-.78.78-.78 2.05 0 2.83L4 21.41c.39.39.9.59 1.41.59.51 0 1.02-.2 1.41-.59l7.78-7.78 2.81-2.81c.8-.78.8-2.07 0-2.86zM5.41 20L4 18.59l7.72-7.72 1.47 1.35L5.41 20z\"/>\n",
              "  </svg>\n",
              "      </button>\n",
              "      \n",
              "  <style>\n",
              "    .colab-df-container {\n",
              "      display:flex;\n",
              "      flex-wrap:wrap;\n",
              "      gap: 12px;\n",
              "    }\n",
              "\n",
              "    .colab-df-convert {\n",
              "      background-color: #E8F0FE;\n",
              "      border: none;\n",
              "      border-radius: 50%;\n",
              "      cursor: pointer;\n",
              "      display: none;\n",
              "      fill: #1967D2;\n",
              "      height: 32px;\n",
              "      padding: 0 0 0 0;\n",
              "      width: 32px;\n",
              "    }\n",
              "\n",
              "    .colab-df-convert:hover {\n",
              "      background-color: #E2EBFA;\n",
              "      box-shadow: 0px 1px 2px rgba(60, 64, 67, 0.3), 0px 1px 3px 1px rgba(60, 64, 67, 0.15);\n",
              "      fill: #174EA6;\n",
              "    }\n",
              "\n",
              "    [theme=dark] .colab-df-convert {\n",
              "      background-color: #3B4455;\n",
              "      fill: #D2E3FC;\n",
              "    }\n",
              "\n",
              "    [theme=dark] .colab-df-convert:hover {\n",
              "      background-color: #434B5C;\n",
              "      box-shadow: 0px 1px 3px 1px rgba(0, 0, 0, 0.15);\n",
              "      filter: drop-shadow(0px 1px 2px rgba(0, 0, 0, 0.3));\n",
              "      fill: #FFFFFF;\n",
              "    }\n",
              "  </style>\n",
              "\n",
              "      <script>\n",
              "        const buttonEl =\n",
              "          document.querySelector('#df-19a5f267-3964-487e-846f-5ec18e5f50a5 button.colab-df-convert');\n",
              "        buttonEl.style.display =\n",
              "          google.colab.kernel.accessAllowed ? 'block' : 'none';\n",
              "\n",
              "        async function convertToInteractive(key) {\n",
              "          const element = document.querySelector('#df-19a5f267-3964-487e-846f-5ec18e5f50a5');\n",
              "          const dataTable =\n",
              "            await google.colab.kernel.invokeFunction('convertToInteractive',\n",
              "                                                     [key], {});\n",
              "          if (!dataTable) return;\n",
              "\n",
              "          const docLinkHtml = 'Like what you see? Visit the ' +\n",
              "            '<a target=\"_blank\" href=https://colab.research.google.com/notebooks/data_table.ipynb>data table notebook</a>'\n",
              "            + ' to learn more about interactive tables.';\n",
              "          element.innerHTML = '';\n",
              "          dataTable['output_type'] = 'display_data';\n",
              "          await google.colab.output.renderOutput(dataTable, element);\n",
              "          const docLink = document.createElement('div');\n",
              "          docLink.innerHTML = docLinkHtml;\n",
              "          element.appendChild(docLink);\n",
              "        }\n",
              "      </script>\n",
              "    </div>\n",
              "  </div>\n",
              "  "
            ]
          },
          "metadata": {},
          "execution_count": 7
        }
      ],
      "source": [
        "dados.head()"
      ]
    },
    {
      "cell_type": "markdown",
      "metadata": {
        "id": "JJENQjWo0Aab"
      },
      "source": [
        "# Limpeza de dados"
      ]
    },
    {
      "cell_type": "code",
      "execution_count": null,
      "metadata": {
        "id": "CQRa3iaK0EDI"
      },
      "outputs": [],
      "source": [
        "dados2 = dados.dropna(axis=0, how=\"any\")"
      ]
    },
    {
      "cell_type": "markdown",
      "metadata": {
        "id": "g9mSh8aCZnEl"
      },
      "source": [
        "# Estatisticas"
      ]
    },
    {
      "cell_type": "code",
      "execution_count": null,
      "metadata": {
        "colab": {
          "base_uri": "https://localhost:8080/"
        },
        "id": "3AAvnVUHZ7Ru",
        "outputId": "81be8f1f-97ed-4600-8878-9bf80e64b316"
      },
      "outputs": [
        {
          "name": "stdout",
          "output_type": "stream",
          "text": [
            "Quantidade de pessoas em cada departamento: \n",
            " Vendas & Marketing: 14239 \n",
            " Operações: 10547 \n",
            " Tecnologia: 6502 \n",
            " Pesquisa & Desenvolvimento: 893 \n",
            " Compras: 6641 \n",
            " Financeiro: 2219 \n",
            " RH: 2142 \n",
            " Legal: 867\n"
          ]
        }
      ],
      "source": [
        "qtdMark = (list(dados2['departamento']).count('Vendas & Marketing'))\n",
        "qtdOp = (list(dados2['departamento']).count('Operacoes'))\n",
        "qtdAna = (list(dados2['departamento']).count('Analise'))\n",
        "qtdTec = (list(dados2['departamento']).count('Tecnologia'))\n",
        "qtdSearch = (list(dados2['departamento']).count('Pesquisa & Desenvolvimento'))\n",
        "qtdBuy = (list(dados2['departamento']).count('Compras'))\n",
        "qtdFinan = (list(dados2['departamento']).count('Financeiro'))\n",
        "qtdRH = (list(dados2['departamento']).count('RH'))\n",
        "qtdLegal = (list(dados2['departamento']).count('Legal'))\n",
        "\n",
        "print('Quantidade de pessoas em cada departamento: \\n Vendas & Marketing: {0} \\n Operações: {1} \\n Tecnologia: {2} \\n Pesquisa & Desenvolvimento: {3} \\n Compras: {4} \\n Financeiro: {5} \\n RH: {6} \\n Legal: {7}'.format(qtdMark, qtdOp, qtdTec, qtdSearch, qtdBuy, qtdFinan, qtdRH, qtdLegal))"
      ]
    },
    {
      "cell_type": "markdown",
      "metadata": {
        "id": "fQ335hC8GiXe"
      },
      "source": [
        "É demonstrado a quantidade de pessoas trabalhando em cada departamento, possibilitando ver os setores mais e menos procurados/trabalhados e os setores em crescimento, como o setor de Tecnologia."
      ]
    },
    {
      "cell_type": "code",
      "execution_count": null,
      "metadata": {
        "id": "IiZC2OkZqv44"
      },
      "outputs": [],
      "source": [
        "qtdHomem = (list(dados2['genero']).count('M'))\n",
        "qtdMulher = (list(dados2['genero']).count('F'))\n",
        "porHomem = qtdHomem*100/(qtdHomem+qtdMulher)\n",
        "porMulher = qtdMulher*100/(qtdHomem+qtdMulher)\n",
        "print('A quantidade de mulheres e homens são, respectivamente: {0}, {1} '.format(qtdMulher, qtdHomem))\n",
        "print('Sendo {0}% homens e {1}% mulheres'.format(porHomem, porMulher))"
      ]
    },
    {
      "cell_type": "markdown",
      "metadata": {
        "id": "i7ZzKOl1IBav"
      },
      "source": [
        "É demonstrado a quantidade de mulheres e homens, tendo a porcentagem que cada genero representa em relação a todos os funcionarios"
      ]
    },
    {
      "cell_type": "code",
      "execution_count": null,
      "metadata": {
        "id": "yigaeoai0902"
      },
      "outputs": [],
      "source": [
        "qtdTec = (list(dados2['departamento']).count('Tecnologia'))\n",
        "todo = len((list(dados2['departamento'])))\n",
        "\n",
        "media_tec = qtdTec*100/todo\n",
        "print('O departamento de tecnologia representa {0}% de todos os departamentos'.format(media_tec))"
      ]
    },
    {
      "cell_type": "markdown",
      "metadata": {
        "id": "OZqcHbW5Sq1Z"
      },
      "source": [
        "É demonstrado quantos porcento  o departamento de tecnologia representa em relação a todos os departamentos"
      ]
    },
    {
      "cell_type": "code",
      "execution_count": null,
      "metadata": {
        "id": "PpaQjMY_wSRo"
      },
      "outputs": [],
      "source": [
        "qtdIdade = (list(dados2['idade']))\n",
        "modaIdade = statistics.mode(qtdIdade)\n",
        "print('A maioria das pessoas tem {0} anos'.format(modaIdade))"
      ]
    },
    {
      "cell_type": "markdown",
      "metadata": {
        "id": "q2jkRQUtTmux"
      },
      "source": [
        "É demonstrado a moda das idades "
      ]
    },
    {
      "cell_type": "code",
      "execution_count": null,
      "metadata": {
        "id": "7uuK0KAyADlr"
      },
      "outputs": [],
      "source": [
        "qtdMestrado =(list(dados2['educacao']).count('Mestrado & acima'))\n",
        "qtdBacharel = (list(dados2['educacao']).count('Bacharelado'))\n",
        "qtdMedio = (list(dados2['educacao']).count('Abaixo do ensino medio'))\n",
        "\n",
        "print('Contagem de pessoas em cada nivel educacional: \\n Mestrado & acima: {0}\\n Bacharelado: {1}\\n Abaixo do ensino medio: {2}'.format(qtdMestrado, qtdBacharel, qtdMedio))"
      ]
    },
    {
      "cell_type": "markdown",
      "metadata": {
        "id": "EO6KyCFaTyvZ"
      },
      "source": [
        "É demonstrado a divisão de pessoas em cada nivel educacional"
      ]
    },
    {
      "cell_type": "code",
      "execution_count": null,
      "metadata": {
        "colab": {
          "base_uri": "https://localhost:8080/"
        },
        "id": "zACmd-LOk03o",
        "outputId": "f65fca0b-f888-482b-962b-a9b5a99f7616"
      },
      "outputs": [
        {
          "name": "stdout",
          "output_type": "stream",
          "text": [
            "Quantidade de pessoas com KPI acima de 80%: 17346\n",
            "Quantidade de pessoas com KPI abaixo de 80%: 31314\n",
            "A media de pessoas com KPI > 80% é: 35.64734895191122%\n"
          ]
        }
      ],
      "source": [
        "qtdKPI = (list(dados2['KPIs >80%']).count(1))\n",
        "nqtdKPI = (list(dados2['KPIs >80%']).count(0))\n",
        "\n",
        "media_KPI = qtdKPI*100/(qtdKPI+nqtdKPI)\n",
        "print('Quantidade de pessoas com KPI acima de 80%: {0}\\nQuantidade de pessoas com KPI abaixo de 80%: {1}'.format(qtdKPI, nqtdKPI))\n",
        "print('A media de pessoas com KPI > 80% é: {0}%'.format(media_KPI))"
      ]
    },
    {
      "cell_type": "markdown",
      "metadata": {
        "id": "tuj9qHT7cr6P"
      },
      "source": [
        "É demonstrado quantos porcento de funcionarios há com o KPI > 80%"
      ]
    },
    {
      "cell_type": "code",
      "execution_count": null,
      "metadata": {
        "colab": {
          "base_uri": "https://localhost:8080/"
        },
        "id": "3Pgi3lCsMS_W",
        "outputId": "c7d821f2-1c5b-4700-9c12-abc8d2875686"
      },
      "outputs": [
        {
          "name": "stdout",
          "output_type": "stream",
          "text": [
            "A media da pontuação media de treinamentos é: 63.60330867242088%\n"
          ]
        }
      ],
      "source": [
        "media_pontos = np.mean(dados2['pontuacao_media_treinamentos'])\n",
        "print('A media da pontuação media de treinamentos é: {0}%'.format(media_pontos))"
      ]
    },
    {
      "cell_type": "markdown",
      "metadata": {
        "id": "2dBdNdbhdNXC"
      },
      "source": [
        "É demonstrado a media da pontuação media de treinamentos "
      ]
    },
    {
      "cell_type": "code",
      "execution_count": null,
      "metadata": {
        "id": "qxrkyLrvOxKo"
      },
      "outputs": [],
      "source": [
        "qtdPromo = (list(dados2['foi_promovido']).count(1))\n",
        "nqtdPromo = (list(dados2['foi_promovido']).count(0))\n",
        "soma_promo = qtdPromo + nqtdPromo\n",
        "\n",
        "media_promo = qtdPromo*100/(qtdPromo+nqtdPromo)\n",
        "print('Apenas {0}% das {1} pessoas conseguiram ser promovidas'.format(media_promo, soma_promo))"
      ]
    },
    {
      "cell_type": "markdown",
      "metadata": {
        "id": "HTesVFHSdbyR"
      },
      "source": [
        "É demonstrado quantos porcento de funcionarios receberam uma promoção"
      ]
    },
    {
      "cell_type": "code",
      "execution_count": null,
      "metadata": {
        "id": "zThBaOYiQFc6"
      },
      "outputs": [],
      "source": [
        "qtdTreino = (list(dados2['n_de_treinamentos']))\n",
        "modaTreino = statistics.mode(qtdTreino)\n",
        "print('A maioria das pessoas fizeram {0} treinos'.format(modaTreino))"
      ]
    },
    {
      "cell_type": "markdown",
      "metadata": {
        "id": "aqFTTINldhbX"
      },
      "source": [
        "É demonstrado a moda de numero de treinamentos dos funcionarios"
      ]
    },
    {
      "cell_type": "markdown",
      "metadata": {
        "id": "alaOZ-bDOczq"
      },
      "source": [
        "# Graficos"
      ]
    },
    {
      "cell_type": "code",
      "execution_count": null,
      "metadata": {
        "colab": {
          "base_uri": "https://localhost:8080/",
          "height": 610
        },
        "id": "Gd3F-9ktj5Ka",
        "outputId": "c17a521a-b55a-4337-cd14-e05ebc9bc803"
      },
      "outputs": [
        {
          "data": {
            "text/plain": [
              "<seaborn.axisgrid.FacetGrid at 0x7f659498acd0>"
            ]
          },
          "execution_count": 29,
          "metadata": {},
          "output_type": "execute_result"
        },
        {
          "data": {
            "image/png": "[encoded data removed]",
            "text/plain": [
              "<Figure size 476.625x432 with 1 Axes>"
            ]
          },
          "metadata": {
            "needs_background": "light"
          },
          "output_type": "display_data"
        }
      ],
      "source": [
        "grafico1 = sns.displot(\n",
        "            data=dados2,\n",
        "            kde=True,\n",
        "            x = \"departamento\",\n",
        "            hue=\"genero\",\n",
        "            bins=10,\n",
        "            linewidth=0.7,\n",
        "            height=6\n",
        "            )\n",
        "plt.xticks(rotation=90)\n",
        "grafico1.set(xlabel=\"Departamentos\", ylabel=\"Pessoas\", title=\"Separação Homens e mulheres nos Departamentos\")"
      ]
    },
    {
      "cell_type": "code",
      "execution_count": null,
      "metadata": {
        "colab": {
          "base_uri": "https://localhost:8080/",
          "height": 347
        },
        "id": "CWkHrSewjj8q",
        "outputId": "84c1f817-3a9d-43db-b542-e29542b446b3"
      },
      "outputs": [
        {
          "data": {
            "text/plain": [
              "[Text(0, 0.5, 'N° de Pessoas'),\n",
              " Text(0.5, 0, 'Idade'),\n",
              " Text(0.5, 1.0, 'Relação Idade e N° de Treinamentos')]"
            ]
          },
          "execution_count": 79,
          "metadata": {},
          "output_type": "execute_result"
        },
        {
          "data": {
            "image/png": "[encoded data removed]",
            "text/plain": [
              "<Figure size 432x288 with 1 Axes>"
            ]
          },
          "metadata": {
            "needs_background": "light"
          },
          "output_type": "display_data"
        }
      ],
      "source": [
        "grafico2 = sns.histplot(\n",
        "            data=dados2,\n",
        "            x =\"idade\",\n",
        "            hue=\"n_de_treinamentos\",\n",
        "            kde=True,\n",
        "            bins=10,\n",
        "            linewidth=0.7,\n",
        "            )\n",
        "grafico2.set(xlabel=\"Idade\", ylabel=\"N° de Pessoas\", title=\"Relação Idade e N° de Treinamentos\")\n"
      ]
    },
    {
      "cell_type": "code",
      "execution_count": null,
      "metadata": {
        "colab": {
          "base_uri": "https://localhost:8080/",
          "height": 347
        },
        "id": "OsG53zH_21eM",
        "outputId": "43760d56-67b4-46f7-8bb0-8bfa8d245232"
      },
      "outputs": [
        {
          "data": {
            "text/plain": [
              "[Text(0, 0.5, 'Departamentos'),\n",
              " Text(0.5, 0, 'Idade'),\n",
              " Text(0.5, 1.0, 'Relação Idade funcionario e Departamentos')]"
            ]
          },
          "execution_count": 80,
          "metadata": {},
          "output_type": "execute_result"
        },
        {
          "data": {
            "image/png": "[encoded data removed]",
            "text/plain": [
              "<Figure size 432x288 with 1 Axes>"
            ]
          },
          "metadata": {
            "needs_background": "light"
          },
          "output_type": "display_data"
        }
      ],
      "source": [
        "grafico3 = sns.boxplot(\n",
        "            data=dados2,\n",
        "            x =\"idade\",\n",
        "            y =\"departamento\",\n",
        "            )\n",
        "grafico3.set(xlabel=\"Idade\", ylabel=\"Departamentos\", title=\"Relação Idade e Departamentos\")"
      ]
    },
    {
      "cell_type": "code",
      "execution_count": null,
      "metadata": {
        "colab": {
          "base_uri": "https://localhost:8080/",
          "height": 369
        },
        "id": "FkiSffb6jrgu",
        "outputId": "cbe921f1-0c72-4f46-9833-b1cac9871fbf"
      },
      "outputs": [
        {
          "data": {
            "image/png": "[encoded data removed]",
            "text/plain": [
              "<Figure size 360x360 with 1 Axes>"
            ]
          },
          "metadata": {
            "needs_background": "light"
          },
          "output_type": "display_data"
        }
      ],
      "source": [
        "grafico4 = sns.displot(\n",
        "            x=\"idade\", y=\"tempo_de_servico\",\n",
        "            data=dados2,\n",
        "            bins=10,\n",
        "            linewidth=0.7,\n",
        "            legend=True\n",
        "            )\n",
        "grafico4.set(xlabel=\"Idade\", ylabel=\"Tempo de Serviço\", title=\"Relação Idade e Tempo de serviço\")"
      ]
    },
    {
      "cell_type": "code",
      "execution_count": null,
      "metadata": {
        "colab": {
          "base_uri": "https://localhost:8080/",
          "height": 347
        },
        "id": "dLrWCJeVpRku",
        "outputId": "d2c98a25-ec23-4b86-c23f-3c03430ac38c"
      },
      "outputs": [
        {
          "data": {
            "text/plain": [
              "[Text(0, 0.5, 'Pontuação media de treinamentos'),\n",
              " Text(0.5, 0, 'N° de Treinamentos'),\n",
              " Text(0.5, 1.0, 'Relação Educação, N° de treinamentos e Media pontos')]"
            ]
          },
          "execution_count": 81,
          "metadata": {},
          "output_type": "execute_result"
        },
        {
          "data": {
            "image/png": "[encoded data removed]",
            "text/plain": [
              "<Figure size 432x288 with 1 Axes>"
            ]
          },
          "metadata": {
            "needs_background": "light"
          },
          "output_type": "display_data"
        }
      ],
      "source": [
        "grafico5 = sns.lineplot(\n",
        "            x=\"n_de_treinamentos\",y=\"pontuacao_media_treinamentos\",\n",
        "            hue=\"educacao\",\n",
        "            data=dados2,\n",
        "            )\n",
        "grafico5.set(xlabel=\"N° de Treinamentos\", ylabel=\"Pontuação media de treinamentos\", title=\"Relação Educação, N° de treinamentos e Media pontos\")"
      ]
    },
    {
      "cell_type": "markdown",
      "metadata": {
        "id": "mHNOx0RQGBQf"
      },
      "source": [
        "# Conclusão"
      ]
    },
    {
      "cell_type": "markdown",
      "metadata": {
        "id": "rTZB3JgxduXe"
      },
      "source": [
        "É possivel concluir em meio a todos esses dados uma serie de respostas:\n",
        "*   É predominante no mercado de trabalho o publico masculino\n",
        "*   Pessoas mais velhas tendem a não trocar de empregos\n",
        "*   Conforme as pessoas vão envelhecendo ha um decaida no numero de treinamentos\n",
        "*   O numero de treinamentos não é um dado diretamente proporcional a pontuação de treinamentos\n",
        "*   Pessoas com a educação abaixo do ensino medio tendem a parar de treinar \n",
        "*   É evidente nas empresas um grande numero de funcionarios mais velhos, entre 30 e 40 anos\n",
        "\n",
        "\n"
      ]
    }
  ],
  "metadata": {
    "colab": {
      "collapsed_sections": [],
      "provenance": [],
      "include_colab_link": true
    },
    "kernelspec": {
      "display_name": "Python 3",
      "name": "python3"
    },
    "language_info": {
      "name": "python"
    }
  },
  "nbformat": 4,
  "nbformat_minor": 0
}